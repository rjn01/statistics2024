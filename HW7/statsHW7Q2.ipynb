{
 "cells": [
  {
   "cell_type": "markdown",
   "id": "0e57cb62-ce5a-46b3-98dd-f3c4f1a249c3",
   "metadata": {},
   "source": [
    "__Q2__"
   ]
  },
  {
   "cell_type": "markdown",
   "id": "74424b51-c6e4-4034-8827-1f41cc7a377b",
   "metadata": {},
   "source": [
    "Let us first formulate null hypothesis and alternative hypothesis. \n",
    "\n",
    "$H_0$ : $p$ = $0.03$ \n",
    "\n",
    "$H_1$ : $p$ $\\neq$ $0.03$\n",
    "\n",
    "a) n = 50\n",
    "\n",
    "Our test statistic is C = 0.6 * 50 = 3"
   ]
  },
  {
   "cell_type": "code",
   "execution_count": 2,
   "id": "20ad257b-e895-4741-8896-c2e7ee95a959",
   "metadata": {},
   "outputs": [
    {
     "name": "stdout",
     "output_type": "stream",
     "text": [
      "0.18920192463027882\n"
     ]
    }
   ],
   "source": [
    "import scipy\n",
    "\n",
    "p_value = scipy.stats.binomtest(3, 50, p=0.03).pvalue\n",
    "\n",
    "print(p_value)"
   ]
  },
  {
   "cell_type": "markdown",
   "id": "91826c14-9e80-44e4-bc6c-99cdad67001b",
   "metadata": {},
   "source": [
    "At the 5% significance level, we fail to reject the hypothesis.\n",
    "\n",
    "b) Now let us repeat the proportion test for n = 350. For this larger sample size, we can use the asymptotic proportion test with the standardized test statistic\n",
    "\n",
    "Z = ($\\hat{p}$ - $p_0$) / $\\sqrt{(p_0 * (1-p_0)) / n}$\n",
    "\n",
    "Evaluating this results in: "
   ]
  },
  {
   "cell_type": "code",
   "execution_count": 3,
   "id": "cb4ae8d0-56f4-46fb-aac8-435cca3d793b",
   "metadata": {},
   "outputs": [
    {
     "name": "stdout",
     "output_type": "stream",
     "text": [
      "3.290097607676896\n"
     ]
    }
   ],
   "source": [
    "import math\n",
    "\n",
    "z = (0.06 - 0.03) / math.sqrt((0.03 * 0.97) / 350)\n",
    "\n",
    "print(z)"
   ]
  },
  {
   "cell_type": "markdown",
   "id": "e3898f33-a47e-4235-94b8-74b84796d251",
   "metadata": {},
   "source": [
    "The critical z-values for the two-tailed test at the 5% significance level are $\\pm$ 1.96. Since 3.29 is larger than that value, we reject the null hypothesis for n = 350.\n",
    "\n",
    "To sum up; for n = 50 we fail to reject the null hypothesis that 3% of the products are faulty. For n = 350, we reject the null hypothesis, given that the observed proportion of faulty products in the sample is still 6%. "
   ]
  }
 ],
 "metadata": {
  "kernelspec": {
   "display_name": "fu_intro_profile_areas_pr2",
   "language": "python",
   "name": "fu_intro_profile_areas_pr2"
  },
  "language_info": {
   "codemirror_mode": {
    "name": "ipython",
    "version": 3
   },
   "file_extension": ".py",
   "mimetype": "text/x-python",
   "name": "python",
   "nbconvert_exporter": "python",
   "pygments_lexer": "ipython3",
   "version": "3.11.10"
  }
 },
 "nbformat": 4,
 "nbformat_minor": 5
}
