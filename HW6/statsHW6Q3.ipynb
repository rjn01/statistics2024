{
  "nbformat": 4,
  "nbformat_minor": 0,
  "metadata": {
    "colab": {
      "provenance": []
    },
    "kernelspec": {
      "name": "python3",
      "display_name": "Python 3"
    },
    "language_info": {
      "name": "python"
    }
  },
  "cells": [
    {
      "cell_type": "code",
      "execution_count": 1,
      "metadata": {
        "id": "VeDh66UVl-3Q"
      },
      "outputs": [],
      "source": [
        "import pandas as pd\n",
        "import scipy.stats as stats\n",
        "import matplotlib.pyplot as plt\n",
        "import seaborn as sns\n"
      ]
    },
    {
      "cell_type": "code",
      "source": [
        "data = pd.read_csv('iris.txt')\n",
        "print(data)"
      ],
      "metadata": {
        "colab": {
          "base_uri": "https://localhost:8080/"
        },
        "id": "gHurTbLRmECw",
        "outputId": "ab3783ab-e067-4863-f03a-282c90945707"
      },
      "execution_count": 3,
      "outputs": [
        {
          "output_type": "stream",
          "name": "stdout",
          "text": [
            "     sepal_length  sepal_width  petal_length  petal_width         species\n",
            "0             5.1          3.5           1.4          0.2     Iris-setosa\n",
            "1             4.9          3.0           1.4          0.2     Iris-setosa\n",
            "2             4.7          3.2           1.3          0.2     Iris-setosa\n",
            "3             4.6          3.1           1.5          0.2     Iris-setosa\n",
            "4             5.0          3.6           1.4          0.2     Iris-setosa\n",
            "..            ...          ...           ...          ...             ...\n",
            "145           6.7          3.0           5.2          2.3  Iris-virginica\n",
            "146           6.3          2.5           5.0          1.9  Iris-virginica\n",
            "147           6.5          3.0           5.2          2.0  Iris-virginica\n",
            "148           6.2          3.4           5.4          2.3  Iris-virginica\n",
            "149           5.9          3.0           5.1          1.8  Iris-virginica\n",
            "\n",
            "[150 rows x 5 columns]\n"
          ]
        }
      ]
    },
    {
      "cell_type": "code",
      "source": [
        "setosa = data[data['species'] == 'Iris-setosa']['sepal_width']\n",
        "virginica = data[data['species'] == 'Iris-virginica']['sepal_width']\n",
        "print(f'Value of stosa is {setosa}')\n",
        "print(f'Value of virginica is {virginica}')"
      ],
      "metadata": {
        "colab": {
          "base_uri": "https://localhost:8080/"
        },
        "id": "ZVxclPvfmItr",
        "outputId": "eaad0230-1890-4d98-cfd3-f25fbe7ecc93"
      },
      "execution_count": 4,
      "outputs": [
        {
          "output_type": "stream",
          "name": "stdout",
          "text": [
            "Value of stosa is 0     3.5\n",
            "1     3.0\n",
            "2     3.2\n",
            "3     3.1\n",
            "4     3.6\n",
            "5     3.9\n",
            "6     3.4\n",
            "7     3.4\n",
            "8     2.9\n",
            "9     3.1\n",
            "10    3.7\n",
            "11    3.4\n",
            "12    3.0\n",
            "13    3.0\n",
            "14    4.0\n",
            "15    4.4\n",
            "16    3.9\n",
            "17    3.5\n",
            "18    3.8\n",
            "19    3.8\n",
            "20    3.4\n",
            "21    3.7\n",
            "22    3.6\n",
            "23    3.3\n",
            "24    3.4\n",
            "25    3.0\n",
            "26    3.4\n",
            "27    3.5\n",
            "28    3.4\n",
            "29    3.2\n",
            "30    3.1\n",
            "31    3.4\n",
            "32    4.1\n",
            "33    4.2\n",
            "34    3.1\n",
            "35    3.2\n",
            "36    3.5\n",
            "37    3.1\n",
            "38    3.0\n",
            "39    3.4\n",
            "40    3.5\n",
            "41    2.3\n",
            "42    3.2\n",
            "43    3.5\n",
            "44    3.8\n",
            "45    3.0\n",
            "46    3.8\n",
            "47    3.2\n",
            "48    3.7\n",
            "49    3.3\n",
            "Name: sepal_width, dtype: float64\n",
            "Value of virginica is 100    3.3\n",
            "101    2.7\n",
            "102    3.0\n",
            "103    2.9\n",
            "104    3.0\n",
            "105    3.0\n",
            "106    2.5\n",
            "107    2.9\n",
            "108    2.5\n",
            "109    3.6\n",
            "110    3.2\n",
            "111    2.7\n",
            "112    3.0\n",
            "113    2.5\n",
            "114    2.8\n",
            "115    3.2\n",
            "116    3.0\n",
            "117    3.8\n",
            "118    2.6\n",
            "119    2.2\n",
            "120    3.2\n",
            "121    2.8\n",
            "122    2.8\n",
            "123    2.7\n",
            "124    3.3\n",
            "125    3.2\n",
            "126    2.8\n",
            "127    3.0\n",
            "128    2.8\n",
            "129    3.0\n",
            "130    2.8\n",
            "131    3.8\n",
            "132    2.8\n",
            "133    2.8\n",
            "134    2.6\n",
            "135    3.0\n",
            "136    3.4\n",
            "137    3.1\n",
            "138    3.0\n",
            "139    3.1\n",
            "140    3.1\n",
            "141    3.1\n",
            "142    2.7\n",
            "143    3.2\n",
            "144    3.3\n",
            "145    3.0\n",
            "146    2.5\n",
            "147    3.0\n",
            "148    3.4\n",
            "149    3.0\n",
            "Name: sepal_width, dtype: float64\n"
          ]
        }
      ]
    },
    {
      "cell_type": "markdown",
      "source": [
        "Checkign normality using shapiro wilk test"
      ],
      "metadata": {
        "id": "oK3DzeV1sDxW"
      }
    },
    {
      "cell_type": "code",
      "source": [
        "shapiro_setosa, p_setosa = stats.shapiro(setosa)\n",
        "print(f'Value of p_setosa is {p_setosa}')\n",
        "shapiro_virginica, p_virginica = stats.shapiro(virginica)\n",
        "print(f'Value of shapiro_virginica is {p_virginica}')"
      ],
      "metadata": {
        "colab": {
          "base_uri": "https://localhost:8080/"
        },
        "id": "xqz4ihWimMzH",
        "outputId": "15f694aa-fa2b-4ba3-9f5d-7ce6cb9c8d60"
      },
      "execution_count": 13,
      "outputs": [
        {
          "output_type": "stream",
          "name": "stdout",
          "text": [
            "Value of p_setosa is 0.20465666067562632\n",
            "Value of shapiro_virginica is 0.18089604109069918\n"
          ]
        }
      ]
    },
    {
      "cell_type": "markdown",
      "source": [
        "Checking variance"
      ],
      "metadata": {
        "id": "X1iNUwbvur68"
      }
    },
    {
      "cell_type": "code",
      "source": [
        "levene_test, levene_p = stats.levene(setosa, virginica)\n",
        "print(f'Value of levene_p is {levene_p}')"
      ],
      "metadata": {
        "colab": {
          "base_uri": "https://localhost:8080/"
        },
        "id": "OZm-wYkvmQZG",
        "outputId": "aeda6f2f-163f-442c-f286-ad96aeb36781"
      },
      "execution_count": 14,
      "outputs": [
        {
          "output_type": "stream",
          "name": "stdout",
          "text": [
            "Value of levene_p is 0.30632327568956713\n"
          ]
        }
      ]
    },
    {
      "cell_type": "code",
      "source": [
        "t_stat, p_value = stats.ttest_ind(setosa, virginica, equal_var=True)"
      ],
      "metadata": {
        "id": "QPVtLNoHmSKn"
      },
      "execution_count": 9,
      "outputs": []
    },
    {
      "cell_type": "code",
      "source": [
        "print(\"Shapiro-Wilk Test for Normality (Setosa):\", shapiro_setosa)\n",
        "print(\"Shapiro-Wilk Test for Normality (Virginica):\", shapiro_virginica)\n",
        "print(\"Levene's Test for Equal Variances:\", levene_test)\n",
        "print(\"Two-sample t-test p-value:\", p_value)"
      ],
      "metadata": {
        "colab": {
          "base_uri": "https://localhost:8080/"
        },
        "id": "imy9OGKCnw6n",
        "outputId": "20339296-b6d6-49ef-c68b-3c037ee6aa42"
      },
      "execution_count": 10,
      "outputs": [
        {
          "output_type": "stream",
          "name": "stdout",
          "text": [
            "Shapiro-Wilk Test for Normality (Setosa): ShapiroResult(statistic=0.9686918964570316, pvalue=0.20465666067562632)\n",
            "Shapiro-Wilk Test for Normality (Virginica): ShapiroResult(statistic=0.9673905311257006, pvalue=0.18089604109069918)\n",
            "Levene's Test for Equal Variances: LeveneResult(statistic=1.0574747096290729, pvalue=0.30632327568956713)\n",
            "Two-sample t-test p-value: 8.916634067006443e-09\n"
          ]
        }
      ]
    },
    {
      "cell_type": "markdown",
      "source": [
        " F-Test for Comparing Variances"
      ],
      "metadata": {
        "id": "PkuA8QiNvMZf"
      }
    },
    {
      "cell_type": "code",
      "source": [
        "f_stat = setosa.var() / virginica.var()\n",
        "dfn = len(setosa) - 1\n",
        "dfd = len(virginica) - 1\n",
        "f_p_value = 1 - stats.f.cdf(f_stat, dfn, dfd)"
      ],
      "metadata": {
        "id": "uvCMXt5JmUeR"
      },
      "execution_count": 21,
      "outputs": []
    },
    {
      "cell_type": "code",
      "source": [
        "print(\"F-statistic for Variance Comparison:\", f_stat)\n",
        "print(\"F-test p-value:\", f_p_value)"
      ],
      "metadata": {
        "colab": {
          "base_uri": "https://localhost:8080/"
        },
        "id": "QKrOVbVgmXcZ",
        "outputId": "01798982-74be-46ac-e4ce-8d94e2fffd03"
      },
      "execution_count": 22,
      "outputs": [
        {
          "output_type": "stream",
          "name": "stdout",
          "text": [
            "F-statistic for Variance Comparison: 1.3959028295592788\n",
            "F-test p-value: 0.12327029558510993\n"
          ]
        }
      ]
    }
  ]
}
