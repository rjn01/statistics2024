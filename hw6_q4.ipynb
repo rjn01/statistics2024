{
 "cells": [
  {
   "cell_type": "markdown",
   "id": "371a8275-f29a-47cd-b17f-ad31750ea223",
   "metadata": {},
   "source": [
    "__Q4)__"
   ]
  },
  {
   "cell_type": "code",
   "execution_count": 1,
   "id": "e99eb6d2-ac50-4530-b490-f049049d617b",
   "metadata": {},
   "outputs": [],
   "source": [
    "import pandas as pd\n",
    "import scipy.stats as stats"
   ]
  },
  {
   "cell_type": "code",
   "execution_count": 7,
   "id": "20435c63-29de-4474-aad4-1444c4c15ec5",
   "metadata": {},
   "outputs": [],
   "source": [
    "cars = pd.read_csv('mtcars.txt', sep='\\t')"
   ]
  },
  {
   "cell_type": "code",
   "execution_count": 8,
   "id": "8426e555-f001-4581-8cf0-e314f460a3c2",
   "metadata": {},
   "outputs": [],
   "source": [
    "auto = cars[cars['am'] == 0]['hp']\n",
    "manual = cars[cars['am'] == 1]['hp']"
   ]
  },
  {
   "cell_type": "markdown",
   "id": "e0d1c54f-ec36-4730-aa2e-4f1c1de309d8",
   "metadata": {},
   "source": [
    "Let us say that $x_1$, . . . , $x_n$ are horsepower values for manual transmission cars and $y_1$, . . . , $y_m$ are horsepower values for automatic transmission cars. We can safely assumed that these observed values are i.i.d. and $x_i$ and $y_j$ are independent for all i, j.\n",
    "\n",
    "Before performing the two sample t-test however, we will check the normality assumption with Shapiro-Wilk test."
   ]
  },
  {
   "cell_type": "code",
   "execution_count": 9,
   "id": "1d28a9d2-496a-4a30-879e-ed5ca2ba75be",
   "metadata": {},
   "outputs": [
    {
     "name": "stdout",
     "output_type": "stream",
     "text": [
      "Auto p-value = 0.5402947718386906\n",
      "Manual p-value = 0.0028804213571519224\n"
     ]
    }
   ],
   "source": [
    "t_auto, p_auto = stats.shapiro(auto)\n",
    "t_manual, p_manual = stats.shapiro(manual)\n",
    "\n",
    "print(f\"Auto p-value = {p_auto}\")\n",
    "print(f\"Manual p-value = {p_manual}\")"
   ]
  },
  {
   "cell_type": "markdown",
   "id": "98b8809d-253b-4876-b9b8-2f10866c309f",
   "metadata": {},
   "source": [
    "p-value for hp-values of manual transmission cars is smaller than 0.05; so we have to reject the normality assumption. Two sample t-test will not be reliable since our sample sizes are small (<25), but let us run the test anyway for demonstration. \n",
    "\n",
    "Our null hypothesis is: $H_0$ : $µ_x$ = $µ_y$ \n",
    "\n",
    "And the alternative: $H_1$ : $µ_x$ $\\neq$ $µ_y$\n",
    "\n",
    "where $µ_x$ and $µ_y$ are mean values of the horsepower values for manual and automatic transmission cars, respectively. "
   ]
  },
  {
   "cell_type": "code",
   "execution_count": 11,
   "id": "874fd75e-32ab-453a-a4db-4a5e6afde0ed",
   "metadata": {},
   "outputs": [
    {
     "name": "stdout",
     "output_type": "stream",
     "text": [
      "Two-sample t-test p-value: 0.2209795813359129\n"
     ]
    }
   ],
   "source": [
    "t_stat, p_value = stats.ttest_ind(a=auto,b=manual,equal_var=False) \n",
    "# we are going with the unequal variances here\n",
    "print(f\"Two-sample t-test p-value: {p_value}\")"
   ]
  },
  {
   "cell_type": "markdown",
   "id": "59a58913-cccf-4c81-b51c-08d83faab0a4",
   "metadata": {},
   "source": [
    "Since the p-value is greater than 0.05, we are unable to reject our null hypothesis. Now let us run the Wilcoxon signed rank test for the same hypothesis. For this test, we can drop the normality assumption. "
   ]
  },
  {
   "cell_type": "code",
   "execution_count": 15,
   "id": "3270cd3e-5683-4f06-acda-70218e307219",
   "metadata": {},
   "outputs": [
    {
     "name": "stdout",
     "output_type": "stream",
     "text": [
      "Wilcoxon signed rank test p-value: 0.04570131606633588\n"
     ]
    }
   ],
   "source": [
    "_ , p_value_w = stats.mannwhitneyu(auto,manual)\n",
    "print(f\"Wilcoxon signed rank test p-value: {p_value_w}\")"
   ]
  },
  {
   "cell_type": "markdown",
   "id": "b6c1c88e-0614-4b3f-9567-70ac32ebe2fe",
   "metadata": {},
   "source": [
    "At the significance level of 0.05, we reject our null hypothesis. As we said before, if the values are not normally distributed and if the sample size is small, two sample t-test is not very reliable. Indeed, the Wilcoxon signed rank test, which is a good alternative to two-sample t-test when the populations are not normally distributed, led us to a different result. "
   ]
  }
 ],
 "metadata": {
  "kernelspec": {
   "display_name": "fu_intro_profile_areas_pr2",
   "language": "python",
   "name": "fu_intro_profile_areas_pr2"
  },
  "language_info": {
   "codemirror_mode": {
    "name": "ipython",
    "version": 3
   },
   "file_extension": ".py",
   "mimetype": "text/x-python",
   "name": "python",
   "nbconvert_exporter": "python",
   "pygments_lexer": "ipython3",
   "version": "3.11.10"
  }
 },
 "nbformat": 4,
 "nbformat_minor": 5
}
