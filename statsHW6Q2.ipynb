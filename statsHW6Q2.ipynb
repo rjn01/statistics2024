{
 "cells": [
  {
   "cell_type": "code",
   "execution_count": 5,
   "id": "c6fbd586-250b-4391-a3c0-78de966479fc",
   "metadata": {},
   "outputs": [
    {
     "name": "stdout",
     "output_type": "stream",
     "text": [
      "Mean: 209.27,\n",
      "95% Confidence Interval: (201.09330023805987, 217.4434644678225)\n",
      "Variance: 4689.96,\n",
      "95% Confidence Interval: (3990.597523022395, 5591.808462558782)\n",
      "Median: 240.00,\n",
      "95% Confidence Interval: [230.  246.5]\n"
     ]
    }
   ],
   "source": [
    "import numpy as np\n",
    "from scipy import stats\n",
    "\n",
    "data = np.loadtxt('FT2.txt')\n",
    "\n",
    "# Mean and 95% confidence interval\n",
    "mean = np.mean(data)\n",
    "std_error_of_mean = stats.sem(data)\n",
    "ci_of_mean = stats.t.interval(0.95, len(data)-1, loc=mean, scale=std_error_of_mean)\n",
    "\n",
    "# Variance and 95% confidence interval\n",
    "variance = np.var(data, ddof=1)\n",
    "n = len(data)\n",
    "alpha = 0.05\n",
    "chi2_upper = stats.chi2.ppf(1 - alpha / 2, n - 1)\n",
    "chi2_lower = stats.chi2.ppf(alpha / 2, n - 1)\n",
    "ci_of_var = ((n - 1) * variance / chi2_upper, (n - 1) * variance / chi2_lower)\n",
    "\n",
    "# Median and 95% confidence interval\n",
    "median = np.median(data)\n",
    "bootstrap_number = 10000\n",
    "bootstrapped_medians = [np.median(np.random.choice(data, size=n, replace=True)) for _ in range(bootstrap_number)]\n",
    "ci_of_median = np.percentile(bootstrapped_medians, [2.5, 97.5])\n",
    "\n",
    "\n",
    "print(f\"Mean: {mean:.2f},\\n95% Confidence Interval: {ci_of_mean:}\")\n",
    "print(f\"Variance: {variance:.2f},\\n95% Confidence Interval: {ci_of_var}\")\n",
    "print(f\"Median: {median:.2f},\\n95% Confidence Interval: {ci_of_median}\")"
   ]
  },
  {
   "cell_type": "code",
   "execution_count": null,
   "id": "f37cc7f9-72b5-4e05-ad26-1bf886f169a9",
   "metadata": {},
   "outputs": [],
   "source": []
  }
 ],
 "metadata": {
  "kernelspec": {
   "display_name": "Python 3 (ipykernel)",
   "language": "python",
   "name": "python3"
  },
  "language_info": {
   "codemirror_mode": {
    "name": "ipython",
    "version": 3
   },
   "file_extension": ".py",
   "mimetype": "text/x-python",
   "name": "python",
   "nbconvert_exporter": "python",
   "pygments_lexer": "ipython3",
   "version": "3.12.4"
  }
 },
 "nbformat": 4,
 "nbformat_minor": 5
}
