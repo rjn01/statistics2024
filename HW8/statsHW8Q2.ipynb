{
 "cells": [
  {
   "cell_type": "markdown",
   "id": "750de0c7-a0de-4a16-8f91-ca530c311384",
   "metadata": {},
   "source": [
    "Problem - 2:"
   ]
  },
  {
   "cell_type": "markdown",
   "id": "e36faf86-0868-40b1-8326-0c74a10aecbe",
   "metadata": {},
   "source": [
    "### Hypothesis for ANOVA Tests:\n",
    "#### Null hypothesis: The means of all the groups are equal.\n",
    "#### Alternative hypothesis: At least mean of one group is differente"
   ]
  },
  {
   "cell_type": "code",
   "execution_count": 1,
   "id": "091351e4-de0d-47c1-8499-9dfbc6d7696e",
   "metadata": {},
   "outputs": [
    {
     "name": "stdout",
     "output_type": "stream",
     "text": [
      "Results of ANOVA :\n",
      "F-statistic: 0.03533411578284486\n",
      "p-value: 0.9652910418830514\n",
      "\n"
     ]
    }
   ],
   "source": [
    "import numpy as np\n",
    "from scipy.stats import f_oneway, shapiro, levene\n",
    "\n",
    "def read_groups_from_file(filename):\n",
    "    groups = [] \n",
    "    with open(filename, 'r') as file:\n",
    "        lines = file.readlines()\n",
    "        header = lines[0].strip()\n",
    "        if any(char.isalpha() for char in header):\n",
    "            lines = lines[1:] \n",
    "        \n",
    "        data = [line.strip().split(\",\") for line in lines]\n",
    "        \n",
    "        data_array = np.array(data, dtype=float).T\n",
    "        groups = [data_array[i] for i in range(data_array.shape[0])]\n",
    "    \n",
    "    return groups\n",
    "\n",
    "groups = read_groups_from_file(\"group.txt\")\n",
    "\n",
    "anova_result = f_oneway(*groups)\n",
    "print(f\"Results of ANOVA :\")\n",
    "print(f\"F-statistic: {anova_result.statistic}\")\n",
    "print(f\"p-value: {anova_result.pvalue}\\n\")"
   ]
  },
  {
   "cell_type": "markdown",
   "id": "d616e4a8-b539-465b-af67-3f7883f863a8",
   "metadata": {},
   "source": [
    "### Conclusion According to the ANOVA test: "
   ]
  },
  {
   "cell_type": "markdown",
   "id": "ae8734a7-f00a-434e-a216-14d0a2980b65",
   "metadata": {},
   "source": [
    "F-statistic: 0.03533411578284486 and \n",
    "p-value: 0.9652910418830514\n",
    "\n",
    "Since the p-value (𝑝=0.9653) is much greater than the significance level (𝛼=0.05), \n",
    "Null hypothesis is not rejected."
   ]
  },
  {
   "cell_type": "markdown",
   "id": "fb3f890e-3aca-4684-838c-4847ada00869",
   "metadata": {},
   "source": [
    "### To check whether the assumptions of ANOVA (Analysis of Variance) are satisfied, there are several steps:\n",
    "\n",
    "#### 1. Independence: Ensured by the study design (randomization).\n",
    "#### 2. Normality: Histograms, Q-Q plots, and statistical tests (e.g., Shapiro-Wilk).\n",
    "#### 3. Homogeneity of variances: Levene’s test, boxplots, and residual plots.\n",
    "#### 4. Equal sample sizes: Ideally. However, ANOVA is robust to moderate violations from it."
   ]
  },
  {
   "cell_type": "code",
   "execution_count": 2,
   "id": "f6d2b92d-39d6-4b79-aa29-bf6e2009931b",
   "metadata": {},
   "outputs": [
    {
     "name": "stdout",
     "output_type": "stream",
     "text": [
      "Results of Normality Check:\n",
      "Group 1: Shapiro-Wilk Test Statistic = 0.9793770910401749, p-value = 0.5259991008252369\n",
      "Group 1 is approximately normally distributed.\n",
      "\n",
      "Group 2: Shapiro-Wilk Test Statistic = 0.980605959653044, p-value = 0.5777881137419237\n",
      "Group 2 is approximately normally distributed.\n",
      "\n",
      "Group 3: Shapiro-Wilk Test Statistic = 0.9742342004020553, p-value = 0.34104809476957937\n",
      "Group 3 is approximately normally distributed.\n",
      "\n"
     ]
    },
    {
     "data": {
      "image/png": "[encoded data removed]",
      "text/plain": [
       "<Figure size 1200x400 with 3 Axes>"
      ]
     },
     "metadata": {},
     "output_type": "display_data"
    },
    {
     "name": "stdout",
     "output_type": "stream",
     "text": [
      "Levene's Test for Homogeneity of Variances:\n",
      "Levene Statistic: 1.6200527847327568, p-value: 0.20140113675365784\n",
      "Variances are approximately equal (satisfied).\n",
      "\n"
     ]
    }
   ],
   "source": [
    "import matplotlib.pyplot as plt\n",
    "# Normality Check:\n",
    "def normality_check(group, group_name):\n",
    "    stat, p_value = shapiro(group)\n",
    "    print(f\"{group_name}: Shapiro-Wilk Test Statistic = {stat}, p-value = {p_value}\")\n",
    "    if p_value > 0.05:\n",
    "        print(f\"{group_name} is approximately normally distributed.\\n\")\n",
    "    else:\n",
    "        print(f\"{group_name} is not normally distributed.\\n\")\n",
    "\n",
    "print(\"Results of Normality Check:\")\n",
    "for i, group in enumerate(groups):\n",
    "    normality_check(group, f\"Group {i + 1}\")\n",
    "\n",
    "#  Visualize Data Distributions (Histogram)\n",
    "plt.figure(figsize=(12, 4))\n",
    "\n",
    "for i, group in enumerate(groups):\n",
    "    plt.subplot(1, len(groups), i + 1)\n",
    "    plt.hist(group, bins=10, alpha=0.7)\n",
    "    plt.title(f\"Group {i + 1} Distribution\")\n",
    "    plt.xlabel(\"Value\")\n",
    "    plt.ylabel(\"Frequency\")\n",
    "\n",
    "plt.tight_layout()\n",
    "plt.show()\n",
    "\n",
    "# Homogeneity Test:\n",
    "levene_stat, levene_p = levene(*groups)\n",
    "print(f\"Levene's Test for Homogeneity of Variances:\")\n",
    "print(f\"Levene Statistic: {levene_stat}, p-value: {levene_p}\")\n",
    "if levene_p > 0.05:\n",
    "    print(\"Variances are approximately equal (satisfied).\\n\")\n",
    "else:\n",
    "    print(\"Variances are not equal (violated).\\n\")\n",
    "\n"
   ]
  },
  {
   "cell_type": "markdown",
   "id": "06969655-2b34-4dfa-80aa-de42fd97baef",
   "metadata": {},
   "source": [
    "### Assessment: \n",
    "#### 1.\tIndependence: Assumed to be satisfied.\n",
    "#### 2.\tNormality: Satisfied, as all groups are approximately normally distributed (Shapiro-Wilk test and histograms).\n",
    "#### 3.\tHomogeneity of Variances: Satisfied, as the variances of the three groups are approximately equal (Levene's test).\n",
    "#### 4.\tEqual sample sizes: Sample size is equal.\n",
    "#### Since all assumptions of ANOVA are satisfied in this example, the results of the ANOVA test are valid and can be trusted."
   ]
  }
 ],
 "metadata": {
  "kernelspec": {
   "display_name": "Python 3 (ipykernel)",
   "language": "python",
   "name": "python3"
  },
  "language_info": {
   "codemirror_mode": {
    "name": "ipython",
    "version": 3
   },
   "file_extension": ".py",
   "mimetype": "text/x-python",
   "name": "python",
   "nbconvert_exporter": "python",
   "pygments_lexer": "ipython3",
   "version": "3.12.4"
  }
 },
 "nbformat": 4,
 "nbformat_minor": 5
}
